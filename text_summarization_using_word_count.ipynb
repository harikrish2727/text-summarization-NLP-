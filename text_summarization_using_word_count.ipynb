{
  "nbformat": 4,
  "nbformat_minor": 0,
  "metadata": {
    "kernelspec": {
      "display_name": "Python 3",
      "language": "python",
      "name": "python3"
    },
    "language_info": {
      "codemirror_mode": {
        "name": "ipython",
        "version": 3
      },
      "file_extension": ".py",
      "mimetype": "text/x-python",
      "name": "python",
      "nbconvert_exporter": "python",
      "pygments_lexer": "ipython3",
      "version": "3.7.6"
    },
    "colab": {
      "name": "text summarization using word count.ipynb",
      "provenance": [],
      "collapsed_sections": [],
      "include_colab_link": true
    }
  },
  "cells": [
    {
      "cell_type": "markdown",
      "metadata": {
        "id": "view-in-github",
        "colab_type": "text"
      },
      "source": [
        "<a href=\"https://colab.research.google.com/github/harikrish2727/text-summarization-NLP-/blob/main/text_summarization_using_word_count.ipynb\" target=\"_parent\"><img src=\"https://colab.research.google.com/assets/colab-badge.svg\" alt=\"Open In Colab\"/></a>"
      ]
    },
    {
      "cell_type": "code",
      "metadata": {
        "colab": {
          "base_uri": "https://localhost:8080/"
        },
        "id": "nhvxu3IiS8lh",
        "outputId": "8ee9b6df-9529-4c50-94ea-01665e2c923b"
      },
      "source": [
        "import nltk\n",
        "import pandas as pd\n",
        "import string\n",
        "nltk.download('stopwords')\n",
        "nltk.download('punkt')"
      ],
      "execution_count": 12,
      "outputs": [
        {
          "output_type": "stream",
          "text": [
            "[nltk_data] Downloading package stopwords to /root/nltk_data...\n",
            "[nltk_data]   Package stopwords is already up-to-date!\n",
            "[nltk_data] Downloading package punkt to /root/nltk_data...\n",
            "[nltk_data]   Unzipping tokenizers/punkt.zip.\n"
          ],
          "name": "stdout"
        },
        {
          "output_type": "execute_result",
          "data": {
            "text/plain": [
              "True"
            ]
          },
          "metadata": {
            "tags": []
          },
          "execution_count": 12
        }
      ]
    },
    {
      "cell_type": "code",
      "metadata": {
        "id": "J4JZWnPKS8ll"
      },
      "source": [
        "from nltk.corpus import stopwords\n",
        "from nltk.tokenize import word_tokenize,sent_tokenize"
      ],
      "execution_count": 5,
      "outputs": []
    },
    {
      "cell_type": "code",
      "metadata": {
        "id": "A40PshTTS8lm"
      },
      "source": [
        "stop_words = stopwords.words(\"english\")+list(string.punctuation)  #stopwords including punctuations"
      ],
      "execution_count": 6,
      "outputs": []
    },
    {
      "cell_type": "code",
      "metadata": {
        "colab": {
          "base_uri": "https://localhost:8080/"
        },
        "id": "U9TueItTS8lm",
        "outputId": "0d8ce610-dbd7-450b-f0cd-cf90d28d31b4"
      },
      "source": [
        " stop_words"
      ],
      "execution_count": 7,
      "outputs": [
        {
          "output_type": "execute_result",
          "data": {
            "text/plain": [
              "['i',\n",
              " 'me',\n",
              " 'my',\n",
              " 'myself',\n",
              " 'we',\n",
              " 'our',\n",
              " 'ours',\n",
              " 'ourselves',\n",
              " 'you',\n",
              " \"you're\",\n",
              " \"you've\",\n",
              " \"you'll\",\n",
              " \"you'd\",\n",
              " 'your',\n",
              " 'yours',\n",
              " 'yourself',\n",
              " 'yourselves',\n",
              " 'he',\n",
              " 'him',\n",
              " 'his',\n",
              " 'himself',\n",
              " 'she',\n",
              " \"she's\",\n",
              " 'her',\n",
              " 'hers',\n",
              " 'herself',\n",
              " 'it',\n",
              " \"it's\",\n",
              " 'its',\n",
              " 'itself',\n",
              " 'they',\n",
              " 'them',\n",
              " 'their',\n",
              " 'theirs',\n",
              " 'themselves',\n",
              " 'what',\n",
              " 'which',\n",
              " 'who',\n",
              " 'whom',\n",
              " 'this',\n",
              " 'that',\n",
              " \"that'll\",\n",
              " 'these',\n",
              " 'those',\n",
              " 'am',\n",
              " 'is',\n",
              " 'are',\n",
              " 'was',\n",
              " 'were',\n",
              " 'be',\n",
              " 'been',\n",
              " 'being',\n",
              " 'have',\n",
              " 'has',\n",
              " 'had',\n",
              " 'having',\n",
              " 'do',\n",
              " 'does',\n",
              " 'did',\n",
              " 'doing',\n",
              " 'a',\n",
              " 'an',\n",
              " 'the',\n",
              " 'and',\n",
              " 'but',\n",
              " 'if',\n",
              " 'or',\n",
              " 'because',\n",
              " 'as',\n",
              " 'until',\n",
              " 'while',\n",
              " 'of',\n",
              " 'at',\n",
              " 'by',\n",
              " 'for',\n",
              " 'with',\n",
              " 'about',\n",
              " 'against',\n",
              " 'between',\n",
              " 'into',\n",
              " 'through',\n",
              " 'during',\n",
              " 'before',\n",
              " 'after',\n",
              " 'above',\n",
              " 'below',\n",
              " 'to',\n",
              " 'from',\n",
              " 'up',\n",
              " 'down',\n",
              " 'in',\n",
              " 'out',\n",
              " 'on',\n",
              " 'off',\n",
              " 'over',\n",
              " 'under',\n",
              " 'again',\n",
              " 'further',\n",
              " 'then',\n",
              " 'once',\n",
              " 'here',\n",
              " 'there',\n",
              " 'when',\n",
              " 'where',\n",
              " 'why',\n",
              " 'how',\n",
              " 'all',\n",
              " 'any',\n",
              " 'both',\n",
              " 'each',\n",
              " 'few',\n",
              " 'more',\n",
              " 'most',\n",
              " 'other',\n",
              " 'some',\n",
              " 'such',\n",
              " 'no',\n",
              " 'nor',\n",
              " 'not',\n",
              " 'only',\n",
              " 'own',\n",
              " 'same',\n",
              " 'so',\n",
              " 'than',\n",
              " 'too',\n",
              " 'very',\n",
              " 's',\n",
              " 't',\n",
              " 'can',\n",
              " 'will',\n",
              " 'just',\n",
              " 'don',\n",
              " \"don't\",\n",
              " 'should',\n",
              " \"should've\",\n",
              " 'now',\n",
              " 'd',\n",
              " 'll',\n",
              " 'm',\n",
              " 'o',\n",
              " 're',\n",
              " 've',\n",
              " 'y',\n",
              " 'ain',\n",
              " 'aren',\n",
              " \"aren't\",\n",
              " 'couldn',\n",
              " \"couldn't\",\n",
              " 'didn',\n",
              " \"didn't\",\n",
              " 'doesn',\n",
              " \"doesn't\",\n",
              " 'hadn',\n",
              " \"hadn't\",\n",
              " 'hasn',\n",
              " \"hasn't\",\n",
              " 'haven',\n",
              " \"haven't\",\n",
              " 'isn',\n",
              " \"isn't\",\n",
              " 'ma',\n",
              " 'mightn',\n",
              " \"mightn't\",\n",
              " 'mustn',\n",
              " \"mustn't\",\n",
              " 'needn',\n",
              " \"needn't\",\n",
              " 'shan',\n",
              " \"shan't\",\n",
              " 'shouldn',\n",
              " \"shouldn't\",\n",
              " 'wasn',\n",
              " \"wasn't\",\n",
              " 'weren',\n",
              " \"weren't\",\n",
              " 'won',\n",
              " \"won't\",\n",
              " 'wouldn',\n",
              " \"wouldn't\",\n",
              " '!',\n",
              " '\"',\n",
              " '#',\n",
              " '$',\n",
              " '%',\n",
              " '&',\n",
              " \"'\",\n",
              " '(',\n",
              " ')',\n",
              " '*',\n",
              " '+',\n",
              " ',',\n",
              " '-',\n",
              " '.',\n",
              " '/',\n",
              " ':',\n",
              " ';',\n",
              " '<',\n",
              " '=',\n",
              " '>',\n",
              " '?',\n",
              " '@',\n",
              " '[',\n",
              " '\\\\',\n",
              " ']',\n",
              " '^',\n",
              " '_',\n",
              " '`',\n",
              " '{',\n",
              " '|',\n",
              " '}',\n",
              " '~']"
            ]
          },
          "metadata": {
            "tags": []
          },
          "execution_count": 7
        }
      ]
    },
    {
      "cell_type": "code",
      "metadata": {
        "id": "wpmht1FbS8lm"
      },
      "source": [
        "with open(\"India.txt\",encoding=\"Latin-1\") as India:\n",
        "    content = India.read()                              "
      ],
      "execution_count": 8,
      "outputs": []
    },
    {
      "cell_type": "code",
      "metadata": {
        "colab": {
          "base_uri": "https://localhost:8080/",
          "height": 139
        },
        "id": "9nDk-buWS8ln",
        "outputId": "4432ed7e-a4da-4f38-e2f7-e9ed8b08e48e"
      },
      "source": [
        "content"
      ],
      "execution_count": 10,
      "outputs": [
        {
          "output_type": "execute_result",
          "data": {
            "application/vnd.google.colaboratory.intrinsic+json": {
              "type": "string"
            },
            "text/plain": [
              "\"India, officially the Republic of India (Hindi: BhÄ\\x81rat Gaá¹\\x87arÄ\\x81jya),[23] is a country in South Asia. It is the second-most populous country, the seventh-largest country by area, and the most populous democracy in the world. Bounded by the Indian Ocean on the south, the Arabian Sea on the southwest, and the Bay of Bengal on the southeast, it shares land borders with Pakistan to the west;[f] China, Nepal, and Bhutan to the north; and Bangladesh and Myanmar to the east. In the Indian Ocean, India is in the vicinity of Sri Lanka and the Maldives; its Andaman and Nicobar Islands share a maritime border with Thailand and Indonesia. Modern humans arrived on the Indian subcontinent from Africa no later than 55,000 years ago.[24] Their long occupation, initially in varying forms of isolation as hunter-gatherers, has made the region highly diverse, second only to Africa in human genetic diversity.[25] Settled life emerged on the subcontinent in the western margins of the Indus river basin 9,000 years ago, evolving gradually into the Indus Valley Civilisation of the third millennium BCE.[26] By 1200 BCE, an archaic form of Sanskrit, an Indo-European language, had diffused into India from the northwest, unfolding as the language of the Rigveda, and recording the dawning of Hinduism in India.[27] The Dravidian languages of India were supplanted in the northern regions.[28] By 400 BCE, stratification and exclusion by caste had emerged within Hinduism,[29] and Buddhism and Jainism had arisen, proclaiming social orders unlinked to heredity.[30] Early political consolidations gave rise to the loose-knit Maurya and Gupta Empires based in the Ganges Basin.[31] Their collective era was suffused with wide-ranging creativity,[32] but also marked by the declining status of women,[33] and the incorporation of untouchability into an organised system of belief.[g][34] In South India, the Middle kingdoms exported Dravidian-languages scripts and religious cultures to the kingdoms of Southeast Asia. In the early medieval era, Christianity, Islam, Judaism, and Zoroastrianism put down roots on India's southern and western coasts. Muslim armies from Central Asia intermittently overran India's northern plains,[37] eventually establishing the Delhi Sultanate, and drawing northern India into the cosmopolitan networks of medieval Islam.[38] In the 15th century, the Vijayanagara Empire created a long-lasting composite Hindu culture in south India.[39] In the Punjab, Sikhism emerged, rejecting institutionalised religion.[40] The Mughal Empire, in 1526, ushered in two centuries of relative peace,[41] leaving a legacy of luminous architecture.[h][42] Gradually expanding rule of the British East India Company followed, turning India into a colonial economy, but also consolidating its sovereignty.[43] British Crown rule began in 1858. The rights promised to Indians were granted slowly,[44] but technological changes were introduced, and ideas of education, modernity and the public life took root.[45] A pioneering and influential nationalist movement emerged,[46] which was noted for nonviolent resistance and led India to its independence in 1947.\""
            ]
          },
          "metadata": {
            "tags": []
          },
          "execution_count": 10
        }
      ]
    },
    {
      "cell_type": "code",
      "metadata": {
        "id": "hc_NWyc5S8ln"
      },
      "source": [
        "words = word_tokenize(content)"
      ],
      "execution_count": 13,
      "outputs": []
    },
    {
      "cell_type": "code",
      "metadata": {
        "id": "dxAy23VCS8ln"
      },
      "source": [
        "#finding words count in the text\n",
        "word_freq = {}\n",
        "for word in words:\n",
        "    word=word.lower()\n",
        "    if word not in stop_words:\n",
        "        if word in word_freq:\n",
        "            word_freq[word]+=1\n",
        "        else:\n",
        "            word_freq[word]=1"
      ],
      "execution_count": 14,
      "outputs": []
    },
    {
      "cell_type": "code",
      "metadata": {
        "colab": {
          "base_uri": "https://localhost:8080/"
        },
        "id": "crUF1PD5S8lo",
        "outputId": "9f35342c-cc6d-47be-8a0e-90014c2666d9"
      },
      "source": [
        "word_freq"
      ],
      "execution_count": 15,
      "outputs": [
        {
          "output_type": "execute_result",
          "data": {
            "text/plain": [
              "{\"'s\": 2,\n",
              " '1200': 1,\n",
              " '1526': 1,\n",
              " '15th': 1,\n",
              " '1858': 1,\n",
              " '1947': 1,\n",
              " '23': 1,\n",
              " '24': 1,\n",
              " '25': 1,\n",
              " '26': 1,\n",
              " '27': 1,\n",
              " '28': 1,\n",
              " '29': 1,\n",
              " '30': 1,\n",
              " '31': 1,\n",
              " '32': 1,\n",
              " '33': 1,\n",
              " '34': 1,\n",
              " '37': 1,\n",
              " '38': 1,\n",
              " '39': 1,\n",
              " '40': 1,\n",
              " '400': 1,\n",
              " '41': 1,\n",
              " '42': 1,\n",
              " '43': 1,\n",
              " '44': 1,\n",
              " '45': 1,\n",
              " '46': 1,\n",
              " '55,000': 1,\n",
              " '9,000': 1,\n",
              " 'africa': 2,\n",
              " 'ago': 2,\n",
              " 'also': 2,\n",
              " 'andaman': 1,\n",
              " 'arabian': 1,\n",
              " 'archaic': 1,\n",
              " 'architecture': 1,\n",
              " 'area': 1,\n",
              " 'arisen': 1,\n",
              " 'armies': 1,\n",
              " 'arrived': 1,\n",
              " 'asia': 3,\n",
              " 'bangladesh': 1,\n",
              " 'based': 1,\n",
              " 'basin': 2,\n",
              " 'bay': 1,\n",
              " 'bce': 3,\n",
              " 'began': 1,\n",
              " 'belief': 1,\n",
              " 'bengal': 1,\n",
              " 'bhutan': 1,\n",
              " 'bhä\\x81rat': 1,\n",
              " 'border': 1,\n",
              " 'borders': 1,\n",
              " 'bounded': 1,\n",
              " 'british': 2,\n",
              " 'buddhism': 1,\n",
              " 'caste': 1,\n",
              " 'central': 1,\n",
              " 'centuries': 1,\n",
              " 'century': 1,\n",
              " 'changes': 1,\n",
              " 'china': 1,\n",
              " 'christianity': 1,\n",
              " 'civilisation': 1,\n",
              " 'coasts': 1,\n",
              " 'collective': 1,\n",
              " 'colonial': 1,\n",
              " 'company': 1,\n",
              " 'composite': 1,\n",
              " 'consolidating': 1,\n",
              " 'consolidations': 1,\n",
              " 'cosmopolitan': 1,\n",
              " 'country': 3,\n",
              " 'created': 1,\n",
              " 'creativity': 1,\n",
              " 'crown': 1,\n",
              " 'culture': 1,\n",
              " 'cultures': 1,\n",
              " 'dawning': 1,\n",
              " 'declining': 1,\n",
              " 'delhi': 1,\n",
              " 'democracy': 1,\n",
              " 'diffused': 1,\n",
              " 'diverse': 1,\n",
              " 'diversity': 1,\n",
              " 'dravidian': 1,\n",
              " 'dravidian-languages': 1,\n",
              " 'drawing': 1,\n",
              " 'early': 2,\n",
              " 'east': 2,\n",
              " 'economy': 1,\n",
              " 'education': 1,\n",
              " 'emerged': 4,\n",
              " 'empire': 2,\n",
              " 'empires': 1,\n",
              " 'era': 2,\n",
              " 'establishing': 1,\n",
              " 'eventually': 1,\n",
              " 'evolving': 1,\n",
              " 'exclusion': 1,\n",
              " 'expanding': 1,\n",
              " 'exported': 1,\n",
              " 'f': 1,\n",
              " 'followed': 1,\n",
              " 'form': 1,\n",
              " 'forms': 1,\n",
              " 'g': 1,\n",
              " 'ganges': 1,\n",
              " 'gave': 1,\n",
              " 'gaá¹\\x87arä\\x81jya': 1,\n",
              " 'genetic': 1,\n",
              " 'gradually': 2,\n",
              " 'granted': 1,\n",
              " 'gupta': 1,\n",
              " 'h': 1,\n",
              " 'heredity': 1,\n",
              " 'highly': 1,\n",
              " 'hindi': 1,\n",
              " 'hindu': 1,\n",
              " 'hinduism': 2,\n",
              " 'human': 1,\n",
              " 'humans': 1,\n",
              " 'hunter-gatherers': 1,\n",
              " 'ideas': 1,\n",
              " 'incorporation': 1,\n",
              " 'independence': 1,\n",
              " 'india': 14,\n",
              " 'indian': 3,\n",
              " 'indians': 1,\n",
              " 'indo-european': 1,\n",
              " 'indonesia': 1,\n",
              " 'indus': 2,\n",
              " 'influential': 1,\n",
              " 'initially': 1,\n",
              " 'institutionalised': 1,\n",
              " 'intermittently': 1,\n",
              " 'introduced': 1,\n",
              " 'islam': 2,\n",
              " 'islands': 1,\n",
              " 'isolation': 1,\n",
              " 'jainism': 1,\n",
              " 'judaism': 1,\n",
              " 'kingdoms': 2,\n",
              " 'land': 1,\n",
              " 'language': 2,\n",
              " 'languages': 1,\n",
              " 'lanka': 1,\n",
              " 'later': 1,\n",
              " 'leaving': 1,\n",
              " 'led': 1,\n",
              " 'legacy': 1,\n",
              " 'life': 2,\n",
              " 'long': 1,\n",
              " 'long-lasting': 1,\n",
              " 'loose-knit': 1,\n",
              " 'luminous': 1,\n",
              " 'made': 1,\n",
              " 'maldives': 1,\n",
              " 'margins': 1,\n",
              " 'maritime': 1,\n",
              " 'marked': 1,\n",
              " 'maurya': 1,\n",
              " 'medieval': 2,\n",
              " 'middle': 1,\n",
              " 'millennium': 1,\n",
              " 'modern': 1,\n",
              " 'modernity': 1,\n",
              " 'movement': 1,\n",
              " 'mughal': 1,\n",
              " 'muslim': 1,\n",
              " 'myanmar': 1,\n",
              " 'nationalist': 1,\n",
              " 'nepal': 1,\n",
              " 'networks': 1,\n",
              " 'nicobar': 1,\n",
              " 'nonviolent': 1,\n",
              " 'north': 1,\n",
              " 'northern': 3,\n",
              " 'northwest': 1,\n",
              " 'noted': 1,\n",
              " 'occupation': 1,\n",
              " 'ocean': 2,\n",
              " 'officially': 1,\n",
              " 'orders': 1,\n",
              " 'organised': 1,\n",
              " 'overran': 1,\n",
              " 'pakistan': 1,\n",
              " 'peace': 1,\n",
              " 'pioneering': 1,\n",
              " 'plains': 1,\n",
              " 'political': 1,\n",
              " 'populous': 2,\n",
              " 'proclaiming': 1,\n",
              " 'promised': 1,\n",
              " 'public': 1,\n",
              " 'punjab': 1,\n",
              " 'put': 1,\n",
              " 'recording': 1,\n",
              " 'region': 1,\n",
              " 'regions': 1,\n",
              " 'rejecting': 1,\n",
              " 'relative': 1,\n",
              " 'religion': 1,\n",
              " 'religious': 1,\n",
              " 'republic': 1,\n",
              " 'resistance': 1,\n",
              " 'rights': 1,\n",
              " 'rigveda': 1,\n",
              " 'rise': 1,\n",
              " 'river': 1,\n",
              " 'root': 1,\n",
              " 'roots': 1,\n",
              " 'rule': 2,\n",
              " 'sanskrit': 1,\n",
              " 'scripts': 1,\n",
              " 'sea': 1,\n",
              " 'second': 1,\n",
              " 'second-most': 1,\n",
              " 'settled': 1,\n",
              " 'seventh-largest': 1,\n",
              " 'share': 1,\n",
              " 'shares': 1,\n",
              " 'sikhism': 1,\n",
              " 'slowly': 1,\n",
              " 'social': 1,\n",
              " 'south': 4,\n",
              " 'southeast': 2,\n",
              " 'southern': 1,\n",
              " 'southwest': 1,\n",
              " 'sovereignty': 1,\n",
              " 'sri': 1,\n",
              " 'status': 1,\n",
              " 'stratification': 1,\n",
              " 'subcontinent': 2,\n",
              " 'suffused': 1,\n",
              " 'sultanate': 1,\n",
              " 'supplanted': 1,\n",
              " 'system': 1,\n",
              " 'technological': 1,\n",
              " 'thailand': 1,\n",
              " 'third': 1,\n",
              " 'took': 1,\n",
              " 'turning': 1,\n",
              " 'two': 1,\n",
              " 'unfolding': 1,\n",
              " 'unlinked': 1,\n",
              " 'untouchability': 1,\n",
              " 'ushered': 1,\n",
              " 'valley': 1,\n",
              " 'varying': 1,\n",
              " 'vicinity': 1,\n",
              " 'vijayanagara': 1,\n",
              " 'west': 1,\n",
              " 'western': 2,\n",
              " 'wide-ranging': 1,\n",
              " 'within': 1,\n",
              " 'women': 1,\n",
              " 'world': 1,\n",
              " 'years': 2,\n",
              " 'zoroastrianism': 1}"
            ]
          },
          "metadata": {
            "tags": []
          },
          "execution_count": 15
        }
      ]
    },
    {
      "cell_type": "code",
      "metadata": {
        "id": "xBml8JHTS8lo"
      },
      "source": [
        "sentences = sent_tokenize(content)"
      ],
      "execution_count": 16,
      "outputs": []
    },
    {
      "cell_type": "code",
      "metadata": {
        "colab": {
          "base_uri": "https://localhost:8080/"
        },
        "id": "iO-2PNIRS8lp",
        "outputId": "ff4db826-886c-4b5c-ea4d-bb099ef8889a"
      },
      "source": [
        " sentences"
      ],
      "execution_count": 18,
      "outputs": [
        {
          "output_type": "execute_result",
          "data": {
            "text/plain": [
              "['India, officially the Republic of India (Hindi: BhÄ\\x81rat Gaá¹\\x87arÄ\\x81jya),[23] is a country in South Asia.',\n",
              " 'It is the second-most populous country, the seventh-largest country by area, and the most populous democracy in the world.',\n",
              " 'Bounded by the Indian Ocean on the south, the Arabian Sea on the southwest, and the Bay of Bengal on the southeast, it shares land borders with Pakistan to the west;[f] China, Nepal, and Bhutan to the north; and Bangladesh and Myanmar to the east.',\n",
              " 'In the Indian Ocean, India is in the vicinity of Sri Lanka and the Maldives; its Andaman and Nicobar Islands share a maritime border with Thailand and Indonesia.',\n",
              " 'Modern humans arrived on the Indian subcontinent from Africa no later than 55,000 years ago.',\n",
              " '[24] Their long occupation, initially in varying forms of isolation as hunter-gatherers, has made the region highly diverse, second only to Africa in human genetic diversity.',\n",
              " '[25] Settled life emerged on the subcontinent in the western margins of the Indus river basin 9,000 years ago, evolving gradually into the Indus Valley Civilisation of the third millennium BCE.',\n",
              " '[26] By 1200 BCE, an archaic form of Sanskrit, an Indo-European language, had diffused into India from the northwest, unfolding as the language of the Rigveda, and recording the dawning of Hinduism in India.',\n",
              " '[27] The Dravidian languages of India were supplanted in the northern regions.',\n",
              " '[28] By 400 BCE, stratification and exclusion by caste had emerged within Hinduism,[29] and Buddhism and Jainism had arisen, proclaiming social orders unlinked to heredity.',\n",
              " '[30] Early political consolidations gave rise to the loose-knit Maurya and Gupta Empires based in the Ganges Basin.',\n",
              " '[31] Their collective era was suffused with wide-ranging creativity,[32] but also marked by the declining status of women,[33] and the incorporation of untouchability into an organised system of belief.',\n",
              " '[g][34] In South India, the Middle kingdoms exported Dravidian-languages scripts and religious cultures to the kingdoms of Southeast Asia.',\n",
              " \"In the early medieval era, Christianity, Islam, Judaism, and Zoroastrianism put down roots on India's southern and western coasts.\",\n",
              " \"Muslim armies from Central Asia intermittently overran India's northern plains,[37] eventually establishing the Delhi Sultanate, and drawing northern India into the cosmopolitan networks of medieval Islam.\",\n",
              " '[38] In the 15th century, the Vijayanagara Empire created a long-lasting composite Hindu culture in south India.',\n",
              " '[39] In the Punjab, Sikhism emerged, rejecting institutionalised religion.',\n",
              " '[40] The Mughal Empire, in 1526, ushered in two centuries of relative peace,[41] leaving a legacy of luminous architecture.',\n",
              " '[h][42] Gradually expanding rule of the British East India Company followed, turning India into a colonial economy, but also consolidating its sovereignty.',\n",
              " '[43] British Crown rule began in 1858.',\n",
              " 'The rights promised to Indians were granted slowly,[44] but technological changes were introduced, and ideas of education, modernity and the public life took root.',\n",
              " '[45] A pioneering and influential nationalist movement emerged,[46] which was noted for nonviolent resistance and led India to its independence in 1947.']"
            ]
          },
          "metadata": {
            "tags": []
          },
          "execution_count": 18
        }
      ]
    },
    {
      "cell_type": "code",
      "metadata": {
        "id": "cP_TD7fCS8lp"
      },
      "source": [
        "#based on word count finding total weightage in each sentence\n",
        "sent_weight = {}\n",
        "for sentence in sentences:\n",
        "    for word,freq in word_freq.items():\n",
        "        if word in sentence.lower():\n",
        "            if sentence in sent_weight:\n",
        "                sent_weight[sentence] +=freq\n",
        "            else:\n",
        "                sent_weight[sentence]=freq"
      ],
      "execution_count": 19,
      "outputs": []
    },
    {
      "cell_type": "code",
      "metadata": {
        "colab": {
          "base_uri": "https://localhost:8080/"
        },
        "id": "RmOXhp7MS8lp",
        "outputId": "c8491a3d-b699-4112-f8f1-c76862771906"
      },
      "source": [
        "sent_weight"
      ],
      "execution_count": 20,
      "outputs": [
        {
          "output_type": "execute_result",
          "data": {
            "text/plain": [
              "{'Bounded by the Indian Ocean on the south, the Arabian Sea on the southwest, and the Bay of Bengal on the southeast, it shares land borders with Pakistan to the west;[f] China, Nepal, and Bhutan to the north; and Bangladesh and Myanmar to the east.': 50,\n",
              " 'In the Indian Ocean, India is in the vicinity of Sri Lanka and the Maldives; its Andaman and Nicobar Islands share a maritime border with Thailand and Indonesia.': 34,\n",
              " \"In the early medieval era, Christianity, Islam, Judaism, and Zoroastrianism put down roots on India's southern and western coasts.\": 40,\n",
              " 'India, officially the Republic of India (Hindi: BhÄ\\x81rat Gaá¹\\x87arÄ\\x81jya),[23] is a country in South Asia.': 34,\n",
              " 'It is the second-most populous country, the seventh-largest country by area, and the most populous democracy in the world.': 13,\n",
              " 'Modern humans arrived on the Indian subcontinent from Africa no later than 55,000 years ago.': 34,\n",
              " \"Muslim armies from Central Asia intermittently overran India's northern plains,[37] eventually establishing the Delhi Sultanate, and drawing northern India into the cosmopolitan networks of medieval Islam.\": 45,\n",
              " 'The rights promised to Indians were granted slowly,[44] but technological changes were introduced, and ideas of education, modernity and the public life took root.': 38,\n",
              " '[24] Their long occupation, initially in varying forms of isolation as hunter-gatherers, has made the region highly diverse, second only to Africa in human genetic diversity.': 22,\n",
              " '[25] Settled life emerged on the subcontinent in the western margins of the Indus river basin 9,000 years ago, evolving gradually into the Indus Valley Civilisation of the third millennium BCE.': 38,\n",
              " '[26] By 1200 BCE, an archaic form of Sanskrit, an Indo-European language, had diffused into India from the northwest, unfolding as the language of the Rigveda, and recording the dawning of Hinduism in India.': 39,\n",
              " '[27] The Dravidian languages of India were supplanted in the northern regions.': 29,\n",
              " '[28] By 400 BCE, stratification and exclusion by caste had emerged within Hinduism,[29] and Buddhism and Jainism had arisen, proclaiming social orders unlinked to heredity.': 30,\n",
              " '[30] Early political consolidations gave rise to the loose-knit Maurya and Gupta Empires based in the Ganges Basin.': 19,\n",
              " '[31] Their collective era was suffused with wide-ranging creativity,[32] but also marked by the declining status of women,[33] and the incorporation of untouchability into an organised system of belief.': 23,\n",
              " '[38] In the 15th century, the Vijayanagara Empire created a long-lasting composite Hindu culture in south India.': 32,\n",
              " '[39] In the Punjab, Sikhism emerged, rejecting institutionalised religion.': 12,\n",
              " '[40] The Mughal Empire, in 1526, ushered in two centuries of relative peace,[41] leaving a legacy of luminous architecture.': 19,\n",
              " '[43] British Crown rule began in 1858.': 10,\n",
              " '[45] A pioneering and influential nationalist movement emerged,[46] which was noted for nonviolent resistance and led India to its independence in 1947.': 33,\n",
              " '[g][34] In South India, the Middle kingdoms exported Dravidian-languages scripts and religious cultures to the kingdoms of Southeast Asia.': 42,\n",
              " '[h][42] Gradually expanding rule of the British East India Company followed, turning India into a colonial economy, but also consolidating its sovereignty.': 36}"
            ]
          },
          "metadata": {
            "tags": []
          },
          "execution_count": 20
        }
      ]
    },
    {
      "cell_type": "code",
      "metadata": {
        "id": "lYZJxYQHS8lq"
      },
      "source": [
        "\n",
        "sum_total = 0\n",
        "for items,freq in sent_weight.items():\n",
        "    sum_total+=sent_weight[items]\n",
        "    "
      ],
      "execution_count": 21,
      "outputs": []
    },
    {
      "cell_type": "code",
      "metadata": {
        "colab": {
          "base_uri": "https://localhost:8080/"
        },
        "id": "xGnh2G4zS8lr",
        "outputId": "def66d90-3263-4a5e-beac-427149f87c87"
      },
      "source": [
        "sum_total"
      ],
      "execution_count": 22,
      "outputs": [
        {
          "output_type": "execute_result",
          "data": {
            "text/plain": [
              "672"
            ]
          },
          "metadata": {
            "tags": []
          },
          "execution_count": 22
        }
      ]
    },
    {
      "cell_type": "code",
      "metadata": {
        "colab": {
          "base_uri": "https://localhost:8080/"
        },
        "id": "6ssjtVz-S8lr",
        "outputId": "e1a9b719-5069-4f1c-a308-28592d81dab9"
      },
      "source": [
        "len(sent_weight)"
      ],
      "execution_count": 23,
      "outputs": [
        {
          "output_type": "execute_result",
          "data": {
            "text/plain": [
              "22"
            ]
          },
          "metadata": {
            "tags": []
          },
          "execution_count": 23
        }
      ]
    },
    {
      "cell_type": "code",
      "metadata": {
        "id": "RhxYkPTwS8lr"
      },
      "source": [
        "avg = sum_total//len(sent_weight)"
      ],
      "execution_count": 24,
      "outputs": []
    },
    {
      "cell_type": "code",
      "metadata": {
        "colab": {
          "base_uri": "https://localhost:8080/"
        },
        "id": "blmitUuHS8ls",
        "outputId": "7e897503-01bb-423e-d44a-d3dceaeaddba"
      },
      "source": [
        "avg"
      ],
      "execution_count": 25,
      "outputs": [
        {
          "output_type": "execute_result",
          "data": {
            "text/plain": [
              "30"
            ]
          },
          "metadata": {
            "tags": []
          },
          "execution_count": 25
        }
      ]
    },
    {
      "cell_type": "code",
      "metadata": {
        "id": "O0ERu10nS8ls"
      },
      "source": [
        "\n",
        "summary = \" \"\n",
        "counter = 0\n",
        "\n",
        "for sentence in sentences:\n",
        "    if sentence in sent_weight and (sent_weight[sentence]>(1.3*avg)):   #creating a rule for summary\n",
        "        summary = summary+\" \"+sentence\n",
        "        counter +=1\n",
        "        "
      ],
      "execution_count": 26,
      "outputs": []
    },
    {
      "cell_type": "code",
      "metadata": {
        "colab": {
          "base_uri": "https://localhost:8080/",
          "height": 105
        },
        "id": "L8_VhzaYS8ls",
        "outputId": "3f28e7bf-c549-4572-ce6e-40470103fe4f"
      },
      "source": [
        "summary"
      ],
      "execution_count": 27,
      "outputs": [
        {
          "output_type": "execute_result",
          "data": {
            "application/vnd.google.colaboratory.intrinsic+json": {
              "type": "string"
            },
            "text/plain": [
              "\"  Bounded by the Indian Ocean on the south, the Arabian Sea on the southwest, and the Bay of Bengal on the southeast, it shares land borders with Pakistan to the west;[f] China, Nepal, and Bhutan to the north; and Bangladesh and Myanmar to the east. [g][34] In South India, the Middle kingdoms exported Dravidian-languages scripts and religious cultures to the kingdoms of Southeast Asia. In the early medieval era, Christianity, Islam, Judaism, and Zoroastrianism put down roots on India's southern and western coasts. Muslim armies from Central Asia intermittently overran India's northern plains,[37] eventually establishing the Delhi Sultanate, and drawing northern India into the cosmopolitan networks of medieval Islam.\""
            ]
          },
          "metadata": {
            "tags": []
          },
          "execution_count": 27
        }
      ]
    },
    {
      "cell_type": "code",
      "metadata": {
        "id": "kiPeKUEbS8lw"
      },
      "source": [
        ""
      ],
      "execution_count": null,
      "outputs": []
    }
  ]
}